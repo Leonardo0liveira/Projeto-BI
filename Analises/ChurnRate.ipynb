{
 "cells": [
  {
   "cell_type": "code",
   "execution_count": 5,
   "metadata": {},
   "outputs": [],
   "source": [
    "from sklearn.model_selection import train_test_split\n",
    "from sklearn.linear_model import LogisticRegression\n",
    "from sklearn.metrics import accuracy_score, confusion_matrix, classification_report\n",
    "import pandas as pd\n",
    "import sqlite3"
   ]
  },
  {
   "cell_type": "code",
   "execution_count": 22,
   "metadata": {},
   "outputs": [],
   "source": [
    "# Conectar ao banco de dados\n",
    "db_path = '/Users/leonardooliveira/Desktop/PBI-EXAI/Projeto-BI/DADOS PROJETO BI/Experimentai.db'\n",
    "conn = sqlite3.connect(db_path)\n",
    "\n",
    "# Carregar os dados das tabelas Assinaturas e Pagamentos\n",
    "assinaturas_df = pd.read_sql_query(\"SELECT * FROM Assinaturas\", conn)\n",
    "pagamentos_df = pd.read_sql_query(\"SELECT * FROM Pagamentos\", conn)\n",
    "assinaturasDemo = pd.read_sql_query(\"SELECT * FROM DimDemograficoBaseNova\", conn)\n",
    "cliente_fato_df = pd.read_sql_query(\"SELECT renda_id, id_fato, id_cliente FROM clienteFato\", conn)\n"
   ]
  },
  {
   "cell_type": "code",
   "execution_count": 23,
   "metadata": {},
   "outputs": [
    {
     "data": {
      "text/html": [
       "<div>\n",
       "<style scoped>\n",
       "    .dataframe tbody tr th:only-of-type {\n",
       "        vertical-align: middle;\n",
       "    }\n",
       "\n",
       "    .dataframe tbody tr th {\n",
       "        vertical-align: top;\n",
       "    }\n",
       "\n",
       "    .dataframe thead th {\n",
       "        text-align: right;\n",
       "    }\n",
       "</style>\n",
       "<table border=\"1\" class=\"dataframe\">\n",
       "  <thead>\n",
       "    <tr style=\"text-align: right;\">\n",
       "      <th></th>\n",
       "      <th>renda_id</th>\n",
       "      <th>id_fato</th>\n",
       "      <th>id_cliente</th>\n",
       "    </tr>\n",
       "  </thead>\n",
       "  <tbody>\n",
       "    <tr>\n",
       "      <th>0</th>\n",
       "      <td>R$16.000 - 24.000</td>\n",
       "      <td>1</td>\n",
       "      <td>17</td>\n",
       "    </tr>\n",
       "    <tr>\n",
       "      <th>1</th>\n",
       "      <td>R$0 - 3.000</td>\n",
       "      <td>2</td>\n",
       "      <td>18</td>\n",
       "    </tr>\n",
       "    <tr>\n",
       "      <th>2</th>\n",
       "      <td>R$3.000 - 8.000</td>\n",
       "      <td>3</td>\n",
       "      <td>20</td>\n",
       "    </tr>\n",
       "    <tr>\n",
       "      <th>3</th>\n",
       "      <td>R$8.000 - 16.000</td>\n",
       "      <td>4</td>\n",
       "      <td>22</td>\n",
       "    </tr>\n",
       "    <tr>\n",
       "      <th>4</th>\n",
       "      <td>R$3.000 - 8.000</td>\n",
       "      <td>5</td>\n",
       "      <td>23</td>\n",
       "    </tr>\n",
       "  </tbody>\n",
       "</table>\n",
       "</div>"
      ],
      "text/plain": [
       "            renda_id  id_fato  id_cliente\n",
       "0  R$16.000 - 24.000        1          17\n",
       "1        R$0 - 3.000        2          18\n",
       "2    R$3.000 - 8.000        3          20\n",
       "3   R$8.000 - 16.000        4          22\n",
       "4    R$3.000 - 8.000        5          23"
      ]
     },
     "execution_count": 23,
     "metadata": {},
     "output_type": "execute_result"
    }
   ],
   "source": [
    "cliente_fato_df.head()"
   ]
  },
  {
   "cell_type": "code",
   "execution_count": 8,
   "metadata": {},
   "outputs": [],
   "source": [
    "assinaturas_df.loc[assinaturas_df['Status'] == 'active', 'Churn'] = 0\n",
    "assinaturas_df.loc[assinaturas_df['Status'] != 'active', 'Churn'] = 1"
   ]
  },
  {
   "cell_type": "code",
   "execution_count": null,
   "metadata": {},
   "outputs": [],
   "source": [
    "assinaturasDemo = assinaturasDemo[['idade', 'renda_id', 'estado',]]"
   ]
  },
  {
   "cell_type": "code",
   "execution_count": 9,
   "metadata": {},
   "outputs": [],
   "source": [
    "pagamentos_df['Amount Refunded'] = pd.to_numeric(pagamentos_df['Amount Refunded'], errors='coerce')\n",
    "pagamentos_df.loc[pagamentos_df['Amount Refunded'].isna(), 'Amount Refunded'] = 0"
   ]
  },
  {
   "cell_type": "code",
   "execution_count": 10,
   "metadata": {},
   "outputs": [],
   "source": [
    "pagamentos_summary = pagamentos_df.groupby('Customer ID').agg({\n",
    "    'Status': lambda x: (x == 'Failed').sum(),\n",
    "    'Amount Refunded': 'sum'\n",
    "}).rename(columns={'Status': 'Failed Payments', 'Amount Refunded': 'Total Refunded'})\n"
   ]
  },
  {
   "cell_type": "code",
   "execution_count": 11,
   "metadata": {},
   "outputs": [],
   "source": [
    "assinaturas_churn_df = assinaturas_df.merge(pagamentos_summary, on='Customer ID', how='left')\n",
    "assinaturas_churn_df.loc[assinaturas_churn_df['Failed Payments'].isna(), 'Failed Payments'] = 0\n",
    "assinaturas_churn_df.loc[assinaturas_churn_df['Total Refunded'].isna(), 'Total Refunded'] = 0"
   ]
  },
  {
   "cell_type": "code",
   "execution_count": 12,
   "metadata": {},
   "outputs": [],
   "source": [
    "churn_data = assinaturas_churn_df[['Amount', 'Interval', 'Failed Payments', 'Total Refunded', 'Churn']]\n",
    "churn_data = pd.get_dummies(churn_data, columns=['Interval'], drop_first=True)"
   ]
  },
  {
   "cell_type": "code",
   "execution_count": 16,
   "metadata": {},
   "outputs": [
    {
     "name": "stdout",
     "output_type": "stream",
     "text": [
      "              precision    recall  f1-score   support\n",
      "\n",
      "         0.0       0.96      0.89      0.93       360\n",
      "         1.0       0.22      0.48      0.31        23\n",
      "\n",
      "    accuracy                           0.87       383\n",
      "   macro avg       0.59      0.69      0.62       383\n",
      "weighted avg       0.92      0.87      0.89       383\n",
      "\n"
     ]
    },
    {
     "data": {
      "text/plain": [
       "(0.8694516971279374,\n",
       " array([[322,  12],\n",
       "        [ 38,  11]]))"
      ]
     },
     "execution_count": 16,
     "metadata": {},
     "output_type": "execute_result"
    }
   ],
   "source": [
    "from sklearn.model_selection import train_test_split\n",
    "from sklearn.linear_model import LogisticRegression\n",
    "from sklearn.metrics import accuracy_score, confusion_matrix, classification_report\n",
    "\n",
    "X = churn_data.drop(columns=['Churn'])\n",
    "y = churn_data['Churn']\n",
    "\n",
    "# Dividir os dados em treino e teste\n",
    "X_train, X_test, y_train, y_test = train_test_split(X, y, test_size=0.3, random_state=42)\n",
    "\n",
    "# Treinamento e Avaliação\n",
    "log_reg = LogisticRegression(max_iter=1000)\n",
    "log_reg.fit(X_train, y_train)\n",
    "y_pred = log_reg.predict(X_test)\n",
    "\n",
    "print(classification_report(y_pred, y_test))\n",
    "\n",
    "accuracy = accuracy_score(y_test, y_pred)\n",
    "conf_matrix = confusion_matrix(y_test, y_pred)\n",
    "class_report = classification_report(y_test, y_pred)\n",
    "\n",
    "# Resultado\n",
    "accuracy, conf_matrix\n"
   ]
  },
  {
   "cell_type": "code",
   "execution_count": 15,
   "metadata": {},
   "outputs": [
    {
     "name": "stdout",
     "output_type": "stream",
     "text": [
      "              precision    recall  f1-score   support\n",
      "\n",
      "         0.0       0.89      0.96      0.93       334\n",
      "         1.0       0.48      0.22      0.31        49\n",
      "\n",
      "    accuracy                           0.87       383\n",
      "   macro avg       0.69      0.59      0.62       383\n",
      "weighted avg       0.84      0.87      0.85       383\n",
      "\n"
     ]
    }
   ],
   "source": [
    "print(class_report)"
   ]
  },
  {
   "cell_type": "code",
   "execution_count": 24,
   "metadata": {},
   "outputs": [
    {
     "ename": "NameError",
     "evalue": "name 'plt' is not defined",
     "output_type": "error",
     "traceback": [
      "\u001b[0;31m---------------------------------------------------------------------------\u001b[0m",
      "\u001b[0;31mNameError\u001b[0m                                 Traceback (most recent call last)",
      "Cell \u001b[0;32mIn[24], line 33\u001b[0m\n\u001b[1;32m     30\u001b[0m filtered_events \u001b[38;5;241m=\u001b[39m all_events[(all_events[\u001b[38;5;124m'\u001b[39m\u001b[38;5;124mCreated (UTC)\u001b[39m\u001b[38;5;124m'\u001b[39m] \u001b[38;5;241m>\u001b[39m\u001b[38;5;241m=\u001b[39m start_date)]\n\u001b[1;32m     32\u001b[0m \u001b[38;5;66;03m# Plot the growth of active subscribers over time for the filtered period\u001b[39;00m\n\u001b[0;32m---> 33\u001b[0m \u001b[43mplt\u001b[49m\u001b[38;5;241m.\u001b[39mfigure(figsize\u001b[38;5;241m=\u001b[39m(\u001b[38;5;241m12\u001b[39m, \u001b[38;5;241m6\u001b[39m))\n\u001b[1;32m     34\u001b[0m plt\u001b[38;5;241m.\u001b[39mplot(filtered_events[\u001b[38;5;124m'\u001b[39m\u001b[38;5;124mCreated (UTC)\u001b[39m\u001b[38;5;124m'\u001b[39m], filtered_events[\u001b[38;5;124m'\u001b[39m\u001b[38;5;124mActive Subscribers\u001b[39m\u001b[38;5;124m'\u001b[39m], label\u001b[38;5;241m=\u001b[39m\u001b[38;5;124m'\u001b[39m\u001b[38;5;124mActive Subscribers\u001b[39m\u001b[38;5;124m'\u001b[39m, color\u001b[38;5;241m=\u001b[39m\u001b[38;5;124m'\u001b[39m\u001b[38;5;124mblue\u001b[39m\u001b[38;5;124m'\u001b[39m)\n\u001b[1;32m     35\u001b[0m plt\u001b[38;5;241m.\u001b[39mtitle(\u001b[38;5;124m'\u001b[39m\u001b[38;5;124mGrowth of Active Subscribers Over Time (Filtered Period)\u001b[39m\u001b[38;5;124m'\u001b[39m)\n",
      "\u001b[0;31mNameError\u001b[0m: name 'plt' is not defined"
     ]
    }
   ],
   "source": [
    "# Load active and canceled subscriptions data\n",
    "active_subscriptions = pd.read_csv(\"/Users/leonardooliveira/Desktop/PBI-EXAI/Projeto-BI/DADOS PROJETO BI/subscriptions (30).csv\")\n",
    "canceled_subscriptions = pd.read_csv(\"/Users/leonardooliveira/Desktop/PBI-EXAI/Projeto-BI/DADOS PROJETO BI/subscriptions (31).csv\")\n",
    "\n",
    "# Ensure date columns are in datetime format\n",
    "active_subscriptions['Created (UTC)'] = pd.to_datetime(active_subscriptions['Created (UTC)'])\n",
    "canceled_subscriptions['Created (UTC)'] = pd.to_datetime(canceled_subscriptions['Created (UTC)'])\n",
    "canceled_subscriptions['Canceled At (UTC)'] = pd.to_datetime(canceled_subscriptions['Canceled At (UTC)'])\n",
    "\n",
    "# Create DataFrames for subscription events\n",
    "active_events = active_subscriptions[['Created (UTC)']].copy()\n",
    "active_events['Event'] = 1  # +1 for each new active subscription\n",
    "\n",
    "canceled_events = canceled_subscriptions[['Created (UTC)', 'Canceled At (UTC)']].copy()\n",
    "canceled_events['Event'] = 1  # +1 for each subscription start\n",
    "canceled_events_canceled = canceled_events[['Canceled At (UTC)', 'Event']].copy()\n",
    "canceled_events_canceled.columns = ['Created (UTC)', 'Event']  # Renaming for consistency\n",
    "canceled_events_canceled['Event'] = -1  # -1 for each cancellation\n",
    "\n",
    "# Concatenate all events and sort by date\n",
    "all_events = pd.concat([active_events, canceled_events[['Created (UTC)', 'Event']], canceled_events_canceled])\n",
    "all_events = all_events.sort_values(by='Created (UTC)').reset_index(drop=True)\n",
    "\n",
    "# Calculate cumulative active subscribers\n",
    "all_events['Active Subscribers'] = all_events['Event'].cumsum()\n",
    "\n",
    "# Filter the DataFrame for the desired time period\n",
    "start_date = '2023-11-01'\n",
    "\n",
    "filtered_events = all_events[(all_events['Created (UTC)'] >= start_date)]\n",
    "\n",
    "# Plot the growth of active subscribers over time for the filtered period\n",
    "plt.figure(figsize=(12, 6))\n",
    "plt.plot(filtered_events['Created (UTC)'], filtered_events['Active Subscribers'], label='Active Subscribers', color='blue')\n",
    "plt.title('Growth of Active Subscribers Over Time (Filtered Period)')\n",
    "plt.xlabel('Date')\n",
    "plt.ylabel('Number of Active Subscribers')\n",
    "plt.legend()\n",
    "plt.grid(True)\n",
    "plt.show()"
   ]
  }
 ],
 "metadata": {
  "kernelspec": {
   "display_name": ".venv",
   "language": "python",
   "name": "python3"
  },
  "language_info": {
   "codemirror_mode": {
    "name": "ipython",
    "version": 3
   },
   "file_extension": ".py",
   "mimetype": "text/x-python",
   "name": "python",
   "nbconvert_exporter": "python",
   "pygments_lexer": "ipython3",
   "version": "3.11.9"
  }
 },
 "nbformat": 4,
 "nbformat_minor": 2
}
